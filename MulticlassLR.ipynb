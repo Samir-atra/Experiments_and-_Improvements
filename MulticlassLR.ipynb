{
 "cells": [
  {
   "cell_type": "code",
   "execution_count": null,
   "metadata": {},
   "outputs": [],
   "source": [
    "# Imports\n",
    "\n",
    "import numpy as np\n",
    "import pathlib\n",
    "import matplotlib.pyplot as plt\n",
    "import IPython\n",
    "import sys\n",
    "import cv2\n",
    "import os\n",
    "import tensorflow as tf\n",
    "import tensorflow_datasets as tfds\n",
    "import PIL.Image\n",
    "from PIL import ImageOps\n",
    "import PIL\n",
    "import datetime\n",
    "import tensorboard\n",
    "import sklearn\n",
    "import subprocess\n",
    "import dataset\n",
    "\n",
    "%load_ext autoreload\n",
    "%autoreload 2"
   ]
  },
  {
   "cell_type": "code",
   "execution_count": null,
   "metadata": {},
   "outputs": [],
   "source": [
    "# Datasets\n",
    "\n",
    "traindata_path = r'/home/samer/Downloads/MulticlassLR/Training/'\n",
    "\n",
    "testdata_path = r'/home/samer/Downloads/MulticlassLR/Testing/'\n",
    "\n",
    "train_set, train_class, train_cars, train_car_class, train_mris, train_mris_class, train_shoe, train_shoe_class = dataset.train_dataset(traindata_path)\n",
    "test_set, test_class, test_cars, test_car_class, test_mris, test_mris_class, test_shoe, test_shoe_class = dataset.test_dataset(testdata_path)\n"
   ]
  },
  {
   "cell_type": "code",
   "execution_count": null,
   "metadata": {},
   "outputs": [],
   "source": [
    "# visualization\n",
    "\n",
    "print(train_class.shape)\n",
    "print(\"shape of train dataset = \", train_set.shape)\n",
    "print(\"shape of test dataset = \", test_set.shape)\n",
    "plt.imshow(train_set[15])"
   ]
  },
  {
   "cell_type": "code",
   "execution_count": null,
   "metadata": {},
   "outputs": [],
   "source": [
    "# preprocessing\n",
    "\n",
    "train_set_flatten = train_set.reshape(train_set.shape[0],-1).T\n",
    "train_cars_flatten = train_cars.reshape(train_cars.shape[0],-1).T\n",
    "train_mris_flatten = train_mris.reshape(train_mris.shape[0],-1).T\n",
    "train_shoe_flatten = train_shoe.reshape(train_shoe.shape[0],-1).T\n",
    "test_set_flatten = test_set.reshape(test_set.shape[0],-1).T\n",
    "test_cars_flatten = test_cars.reshape(test_cars.shape[0],-1).T\n",
    "test_mris_flatten = test_mris.reshape(test_mris.shape[0],-1).T\n",
    "test_shoe_flatten = test_shoe.reshape(test_shoe.shape[0],-1).T\n",
    "\n",
    "\n",
    "train_class = train_class.reshape((1, train_class.shape[0]))\n",
    "train_car_class = train_car_class.reshape((1, train_car_class.shape[0]))\n",
    "train_mris_class = train_mris_class.reshape((1, train_mris_class.shape[0]))\n",
    "train_shoe_class = train_shoe_class.reshape((1, train_shoe_class.shape[0]))\n",
    "test_class = test_class.reshape((1, test_class.shape[0]))\n",
    "test_car_class = test_car_class.reshape((1, test_car_class.shape[0]))\n",
    "test_mris_class = test_mris_class.reshape((1, test_mris_class.shape[0]))\n",
    "test_shoe_class = test_shoe_class.reshape((1, test_shoe_class.shape[0]))\n",
    "\n",
    "\n",
    "\n",
    "train_set_flatten = train_set_flatten / 255.\n",
    "train_cars_flatten = train_cars_flatten / 255.\n",
    "train_mris_flatten = train_mris_flatten / 255.\n",
    "train_shoe_flatten = train_shoe_flatten / 255.\n",
    "test_set_flatten = test_set_flatten / 255.\n",
    "test_cars_flatten = test_cars_flatten / 255.\n",
    "test_mris_flatten = test_mris_flatten / 255.\n",
    "test_shoe_flatten = test_shoe_flatten / 255.\n"
   ]
  },
  {
   "cell_type": "code",
   "execution_count": null,
   "metadata": {},
   "outputs": [],
   "source": [
    "# Softmax\n",
    "\n",
    "def softmax(z,i):\n",
    "    \n",
    "    zcar = np.dot(w.T,X[0]) + b \n",
    "    zmri = np.dot(w.T,X[1]) + b\n",
    "    zshoe = np.dot(w.T,X[2]) + b\n",
    "    z = [zcar, zmri, zshoe]\n",
    "    exp = np.exp((z), dtype=np.float64)\n",
    "    sume = np.sum(exp)\n",
    "    scar = np.exp(zcar) / sume\n",
    "    smri = np.exp(zmri) / sume\n",
    "    sshoe = np.exp(zshoe) / sume\n",
    "\n",
    "    return scar, smri, sshoe"
   ]
  },
  {
   "cell_type": "code",
   "execution_count": null,
   "metadata": {},
   "outputs": [],
   "source": [
    "# init_zero\n",
    "\n",
    "def init_zero(dim):\n",
    "\n",
    "    w = np.zeros((dim,1), dtype=np.float64)\n",
    "    b = np.float(0)\n",
    "    return w, b    "
   ]
  },
  {
   "cell_type": "code",
   "execution_count": null,
   "metadata": {},
   "outputs": [],
   "source": [
    "#prop\n",
    "\n",
    "def prop()\n",
    "\n",
    "    m = X.shape[1]\n",
    "\n",
    "    zcar = np.dot(w.T,X[0]) + b \n",
    "    zmri = np.dot(w.T,X[1]) + b\n",
    "    zshoe = np.dot(w.T,X[2]) + b\n",
    "    z = [zcar, zmri, zshoe]\n",
    "    exp = np.exp((z), dtype=np.float64)\n",
    "    sume = np.sum(exp)\n",
    "    acar = np.exp(zcar) / sume\n",
    "    amri = np.exp(zmri) / sume\n",
    "    ashoe = np.exp(zshoe) / sume\n",
    "\n",
    "    l = np.log((s), dtype = np.float64)\n",
    "\n",
    "    cost = -np.sum((Y*l))\n",
    "\n",
    "\n",
    "\n"
   ]
  }
 ],
 "metadata": {
  "kernelspec": {
   "display_name": "Python 3.9.7 ('base')",
   "language": "python",
   "name": "python3"
  },
  "language_info": {
   "codemirror_mode": {
    "name": "ipython",
    "version": 3
   },
   "file_extension": ".py",
   "mimetype": "text/x-python",
   "name": "python",
   "nbconvert_exporter": "python",
   "pygments_lexer": "ipython3",
   "version": "3.9.7"
  },
  "orig_nbformat": 4,
  "vscode": {
   "interpreter": {
    "hash": "d4de0671d8054c88a8842951ed8f6115b974e2e5b39cbc2553be5a6678282e63"
   }
  }
 },
 "nbformat": 4,
 "nbformat_minor": 2
}
