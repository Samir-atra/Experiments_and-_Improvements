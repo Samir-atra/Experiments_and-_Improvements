{
 "cells": [
  {
   "cell_type": "code",
   "execution_count": 1,
   "metadata": {},
   "outputs": [
    {
     "name": "stderr",
     "output_type": "stream",
     "text": [
      "2022-08-25 11:14:25.079225: W tensorflow/stream_executor/platform/default/dso_loader.cc:64] Could not load dynamic library 'libcudart.so.11.0'; dlerror: libcudart.so.11.0: cannot open shared object file: No such file or directory; LD_LIBRARY_PATH: /home/samer/anaconda3/lib/python3.9/site-packages/cv2/../../lib64:\n",
      "2022-08-25 11:14:25.079261: I tensorflow/stream_executor/cuda/cudart_stub.cc:29] Ignore above cudart dlerror if you do not have a GPU set up on your machine.\n"
     ]
    },
    {
     "ename": "NameError",
     "evalue": "name 'traindata_path' is not defined",
     "output_type": "error",
     "traceback": [
      "\u001b[0;31m---------------------------------------------------------------------------\u001b[0m",
      "\u001b[0;31mNameError\u001b[0m                                 Traceback (most recent call last)",
      "\u001b[0;32m/tmp/ipykernel_5013/1910231296.py\u001b[0m in \u001b[0;36m<module>\u001b[0;34m\u001b[0m\n\u001b[1;32m     18\u001b[0m \u001b[0;32mimport\u001b[0m \u001b[0msubprocess\u001b[0m\u001b[0;34m\u001b[0m\u001b[0;34m\u001b[0m\u001b[0m\n\u001b[1;32m     19\u001b[0m \u001b[0;31m#print(sys.path)\u001b[0m\u001b[0;34m\u001b[0m\u001b[0;34m\u001b[0m\u001b[0m\n\u001b[0;32m---> 20\u001b[0;31m \u001b[0;32mimport\u001b[0m \u001b[0mdataset\u001b[0m\u001b[0;34m\u001b[0m\u001b[0;34m\u001b[0m\u001b[0m\n\u001b[0m\u001b[1;32m     21\u001b[0m \u001b[0;34m\u001b[0m\u001b[0m\n\u001b[1;32m     22\u001b[0m \u001b[0mget_ipython\u001b[0m\u001b[0;34m(\u001b[0m\u001b[0;34m)\u001b[0m\u001b[0;34m.\u001b[0m\u001b[0mrun_line_magic\u001b[0m\u001b[0;34m(\u001b[0m\u001b[0;34m'load_ext'\u001b[0m\u001b[0;34m,\u001b[0m \u001b[0;34m'autoreload'\u001b[0m\u001b[0;34m)\u001b[0m\u001b[0;34m\u001b[0m\u001b[0;34m\u001b[0m\u001b[0m\n",
      "\u001b[0;32m~/dataset.py\u001b[0m in \u001b[0;36m<module>\u001b[0;34m\u001b[0m\n\u001b[1;32m     83\u001b[0m \u001b[0;34m\u001b[0m\u001b[0m\n\u001b[1;32m     84\u001b[0m \u001b[0;34m\u001b[0m\u001b[0m\n\u001b[0;32m---> 85\u001b[0;31m \u001b[0mtrain_set\u001b[0m\u001b[0;34m,\u001b[0m \u001b[0mtrain_class\u001b[0m\u001b[0;34m,\u001b[0m \u001b[0mtrain_cars\u001b[0m\u001b[0;34m,\u001b[0m \u001b[0mtrain_car_class\u001b[0m\u001b[0;34m,\u001b[0m \u001b[0mtrain_mris\u001b[0m\u001b[0;34m,\u001b[0m \u001b[0mtrain_mris_class\u001b[0m\u001b[0;34m,\u001b[0m \u001b[0mtrain_shoe\u001b[0m\u001b[0;34m,\u001b[0m \u001b[0mtrain_shoe_class\u001b[0m \u001b[0;34m=\u001b[0m \u001b[0mtrain_dataset\u001b[0m\u001b[0;34m(\u001b[0m\u001b[0mtraindata_path\u001b[0m\u001b[0;34m)\u001b[0m\u001b[0;34m\u001b[0m\u001b[0;34m\u001b[0m\u001b[0m\n\u001b[0m\u001b[1;32m     86\u001b[0m \u001b[0mtest_set\u001b[0m\u001b[0;34m,\u001b[0m \u001b[0mtest_class\u001b[0m\u001b[0;34m,\u001b[0m \u001b[0mtest_cars\u001b[0m\u001b[0;34m,\u001b[0m \u001b[0mtest_car_class\u001b[0m\u001b[0;34m,\u001b[0m \u001b[0mtest_mris\u001b[0m\u001b[0;34m,\u001b[0m \u001b[0mtest_mris_class\u001b[0m\u001b[0;34m,\u001b[0m \u001b[0mtest_shoe\u001b[0m\u001b[0;34m,\u001b[0m \u001b[0mtest_shoe_class\u001b[0m \u001b[0;34m=\u001b[0m \u001b[0mtest_dataset\u001b[0m\u001b[0;34m(\u001b[0m\u001b[0mtestdata_path\u001b[0m\u001b[0;34m)\u001b[0m\u001b[0;34m\u001b[0m\u001b[0;34m\u001b[0m\u001b[0m\n\u001b[1;32m     87\u001b[0m \u001b[0;34m\u001b[0m\u001b[0m\n",
      "\u001b[0;31mNameError\u001b[0m: name 'traindata_path' is not defined"
     ]
    }
   ],
   "source": [
    "# Imports\n",
    "\n",
    "import numpy as np\n",
    "import pathlib\n",
    "import matplotlib.pyplot as plt\n",
    "import IPython\n",
    "import sys\n",
    "import cv2\n",
    "import os\n",
    "import tensorflow as tf\n",
    "import tensorflow_datasets as tfds\n",
    "import PIL.Image\n",
    "from PIL import ImageOps\n",
    "import PIL\n",
    "import datetime\n",
    "import tensorboard\n",
    "import sklearn\n",
    "import subprocess\n",
    "import dataset\n",
    "\n",
    "%load_ext autoreload\n",
    "%autoreload 2"
   ]
  },
  {
   "cell_type": "code",
   "execution_count": null,
   "metadata": {},
   "outputs": [],
   "source": [
    "# Datasets\n",
    "\n",
    "traindata_path = r'/home/samer/Downloads/MulticlassLR/Training/'\n",
    "\n",
    "testdata_path = r'/home/samer/Downloads/MulticlassLR/Testing/'\n",
    "\n",
    "train_set, train_class, train_cars, train_car_class, train_mris, train_mris_class, train_shoe, train_shoe_class = train_dataset(traindata_path)\n",
    "test_set, test_class, test_cars, test_car_class, test_mris, test_mris_class, test_shoe, test_shoe_class = test_dataset(testdata_path)\n",
    "\n",
    "\n",
    "def train_dataset(data_path):\n",
    "   \n",
    "    img_data_array=[]\n",
    "    class_name=[]\n",
    "   \n",
    "    for dir1 in os.listdir(data_path):\n",
    "        for file in os.listdir(os.path.join(data_path, dir1)):\n",
    "            image_path= os.path.join(data_path, dir1,  file)\n",
    "            image= cv2.imread( image_path, cv2.COLOR_BGR2RGB)\n",
    "            image=cv2.resize(image, (100, 100))\n",
    "            image=np.array(image)\n",
    "            image = image.astype('float32')\n",
    "            image /= 255 \n",
    "            if len(image.shape) < 3:\n",
    "                continue\n",
    "            else:\n",
    "                img_data_array.append(image)\n",
    "                class_name.append(dir1)\n",
    "    return img_data_array, class_name\n",
    "\n",
    "def test_dataset(testdata_path):\n",
    "    img_data_array=[]\n",
    "    class_name=[]\n",
    "   \n",
    "    for dir1 in os.listdir(testdata_path):\n",
    "        for file in os.listdir(os.path.join(testdata_path, dir1)):\n",
    "            image_path= os.path.join(testdata_path, dir1,  file)\n",
    "            image= cv2.imread( image_path, cv2.COLOR_BGR2RGB)\n",
    "            image=cv2.resize(image, (100, 100))\n",
    "            image=np.array(image)\n",
    "            image = image.astype('float32')\n",
    "            image /= 255 \n",
    "            if len(image.shape) < 3:\n",
    "                continue\n",
    "            else:\n",
    "                img_data_array.append(image)\n",
    "                class_name.append(dir1)\n",
    "    return img_data_array, class_name\n",
    "\n",
    "train_set, train_class = train_dataset(traindata_path)\n",
    "test_set, test_class = test_dataset(testdata_path)\n",
    "\n",
    "train_set = np.stack(train_set, axis=0)\n",
    "test_set = np.stack(test_set, axis=0)\n",
    "train_class = np.stack(train_class, axis=0)\n",
    "test_class = np.stack(test_class, axis=0)"
   ]
  },
  {
   "cell_type": "code",
   "execution_count": null,
   "metadata": {},
   "outputs": [],
   "source": [
    "# visualization\n",
    "\n",
    "print(train_class.shape)\n",
    "print(\"shape of train dataset = \", train_set.shape)\n",
    "print(\"shape of test dataset = \", test_set.shape)\n",
    "plt.imshow(train_set[15])"
   ]
  },
  {
   "cell_type": "code",
   "execution_count": null,
   "metadata": {},
   "outputs": [],
   "source": [
    "# reshaping\n",
    "\n",
    "train_set_flatten = train_set.reshape(train_set.shape[0],-1).T\n",
    "test_set_flatten = test_set.reshape(test_set.shape[0],-1).T\n",
    "\n",
    "train_class = train_class.reshape((1, train_class.shape[0]))\n",
    "test_class = test_class.reshape((1, test_class.shape[0]))\n",
    "\n",
    "# rescaling\n",
    "\n",
    "train_set_flatten = train_set_flatten / 255.\n",
    "test_set_flatten = test_set_flatten / 255."
   ]
  },
  {
   "cell_type": "code",
   "execution_count": null,
   "metadata": {},
   "outputs": [],
   "source": [
    "# Softmax\n",
    "\n",
    "def softmax(z,i):\n",
    "    z = []\n",
    "    z[0] = np.dot(w.T,X[0]) + b \n",
    "    exp = np.exp((z), dtype=np.float64)\n",
    "    sum = np.sum()\n",
    "    s = exp[i] / sum"
   ]
  }
 ],
 "metadata": {
  "kernelspec": {
   "display_name": "Python 3.9.7 ('base')",
   "language": "python",
   "name": "python3"
  },
  "language_info": {
   "codemirror_mode": {
    "name": "ipython",
    "version": 3
   },
   "file_extension": ".py",
   "mimetype": "text/x-python",
   "name": "python",
   "nbconvert_exporter": "python",
   "pygments_lexer": "ipython3",
   "version": "3.9.7"
  },
  "orig_nbformat": 4,
  "vscode": {
   "interpreter": {
    "hash": "d4de0671d8054c88a8842951ed8f6115b974e2e5b39cbc2553be5a6678282e63"
   }
  }
 },
 "nbformat": 4,
 "nbformat_minor": 2
}
